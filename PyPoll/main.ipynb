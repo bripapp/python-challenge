{
 "cells": [
  {
   "cell_type": "code",
   "execution_count": 5,
   "metadata": {},
   "outputs": [],
   "source": [
    "##READ IN CSV FILE\n",
    "# import csv data\n",
    "import os\n",
    "import csv\n",
    "\n",
    "csv_data = '/Users/Brianna/Desktop/JHUmaterials/Coursework/Homework/03-Python/Instructions/PyPoll/Resources/election_data.csv'"
   ]
  },
  {
   "cell_type": "code",
   "execution_count": 10,
   "metadata": {},
   "outputs": [],
   "source": [
    "#   read in the data line by line\n",
    "with open(csv_data, newline='') as csv_file:\n",
    "    next(csv_file, None)\n",
    "    poll_data = csv.reader(csv_file, delimiter=',')\n",
    "\n",
    "    ##ORGANIZE DATA IN PYTHON\n",
    "    # create empty lists and counters\n",
    "    candidate_name = []\n",
    "    candidate_totals = []\n",
    "\n",
    "    khan_total = 0\n",
    "    correy_total = 0\n",
    "    li_total = 0\n",
    "    otooley_total = 0\n",
    "\n",
    "    # iterate through each row, collect list of unique names and poll #'s\n",
    "    for row in poll_data:\n",
    "        candidate = row[2]\n",
    "\n",
    "        # count votes\n",
    "        if candidate == 'Khan':\n",
    "            khan_total += 1\n",
    "        elif candidate == 'Correy':\n",
    "            correy_total += 1\n",
    "        elif candidate == 'Li':\n",
    "            li_total += 1\n",
    "        else:\n",
    "            otooley_total += 1  \n",
    "            \n",
    "            # check if candidate is already in list. If not, add name\n",
    "        if candidate not in candidate_name:\n",
    "            candidate_name.append(candidate) \n",
    "\n",
    "    # add candidate totals to single list\n",
    "    candidate_totals.append(khan_total)\n",
    "    candidate_totals.append(correy_total)\n",
    "    candidate_totals.append(li_total)\n",
    "    candidate_totals.append(otooley_total)\n",
    "\n",
    "    # combine candidate_name and candidate_totals into dictionary\n",
    "    candidate_info = dict(zip(candidate_name, candidate_totals))\n"
   ]
  },
  {
   "cell_type": "code",
   "execution_count": 11,
   "metadata": {},
   "outputs": [],
   "source": [
    "    ##CALCULATIONS\n",
    "    # total votes \n",
    "    total = sum(candidate_totals)\n",
    "\n",
    "    # candidate percentage\n",
    "    for key in candidate_info:\n",
    "        percentage_won = (candidate_info[key])/total\n",
    "        percentage_won = \"{:.2%}\".format(percentage_won)\n",
    "\n",
    "        # turn current value into list of value(s)\n",
    "        candidate_info[key] = [candidate_info[key]]\n",
    "        # add percentage as value (to appropriate key) in dictionary\n",
    "        candidate_info[key].append(percentage_won)\n",
    "    \n",
    "    winner = max(candidate_info, key=lambda key: candidate_info[key])"
   ]
  },
  {
   "cell_type": "code",
   "execution_count": 12,
   "metadata": {},
   "outputs": [
    {
     "name": "stdout",
     "output_type": "stream",
     "text": [
      "\n",
      "Election Results\n",
      "----------------\n",
      "Total Votes: 3521001\n",
      "Winner: Khan\n",
      "----------------\n",
      "\n",
      "Khan: 63.00% (2218231)\n",
      "Correy: 20.00% (704200)\n",
      "Li: 14.00% (492940)\n",
      "O'Tooley: 3.00% (105630)\n"
     ]
    }
   ],
   "source": [
    "##PRINT RESULTS TO TERMINAL\n",
    "print(\n",
    "    f'''\n",
    "Election Results\n",
    "----------------\n",
    "Total Votes: {total}\n",
    "Winner: {winner}\n",
    "----------------\n",
    "''')\n",
    "for key in candidate_info:\n",
    "    print(f\"{key}: {candidate_info[key][1]} ({candidate_info[key][0]})\")"
   ]
  },
  {
   "cell_type": "code",
   "execution_count": null,
   "metadata": {},
   "outputs": [],
   "source": [
    "##EXPORT RESULTS TO TXT FILE\n",
    "output_path = \"/Users/Brianna/Desktop/JHUmaterials/Submissions/Python/election_analysis.txt\"\n",
    "with open(output_path, 'w') as csvout:\n",
    "    csvout.write(\n",
    "        f'''\n",
    "        Election Results\n",
    "        ----------------\n",
    "        Total Votes: {total}\n",
    "        Winner: {winner}\n",
    "        ----------------\n",
    "        ''')\n",
    "    for key in candidate_info:\n",
    "        csvout.write(f\"{key}: {candidate_info[key][1]} ({candidate_info[key][0]})\")\n",
    "\n",
    "print(\"Election results have been printed to text file!\")"
   ]
  }
 ],
 "metadata": {
  "kernelspec": {
   "display_name": "Python 3",
   "language": "python",
   "name": "python3"
  },
  "language_info": {
   "codemirror_mode": {
    "name": "ipython",
    "version": 3
   },
   "file_extension": ".py",
   "mimetype": "text/x-python",
   "name": "python",
   "nbconvert_exporter": "python",
   "pygments_lexer": "ipython3",
   "version": "3.8.5"
  }
 },
 "nbformat": 4,
 "nbformat_minor": 4
}
