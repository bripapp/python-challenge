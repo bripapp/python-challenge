{
 "cells": [
  {
   "cell_type": "code",
   "execution_count": 46,
   "metadata": {},
   "outputs": [],
   "source": [
    "# Import modules\n",
    "import os\n",
    "import csv\n",
    "\n",
    "# indicate file location\n",
    "csvpath = '/Users/Brianna/Desktop/JHUmaterials/Coursework/Homework/03-Python/Instructions/PyBank/Resources/budget_data.csv'\n",
    "\n",
    "# create necessary lists and variables\n",
    "money_list = []\n",
    "month_counter = []\n",
    "monthly_money = []\n"
   ]
  },
  {
   "cell_type": "code",
   "execution_count": 47,
   "metadata": {},
   "outputs": [],
   "source": [
    "with open(csvpath) as csvfile:\n",
    "\n",
    "# read in csv data\n",
    "    csvreader = csv.reader(csvfile, delimiter=',')\n",
    "    csv_header = next(csvreader)\n",
    "   \n",
    "    # create list of months, and money\n",
    "    for row in csvreader:\n",
    "        month_counter.append(row[0])  \n",
    "        money_list.append(int(row[1])) \n",
    "        \n",
    "        # count months\n",
    "        total_months = len(month_counter) \n",
    "\n",
    "    # calculate net total, avg changes\n",
    "    for i in range(len(money_list)-1):\n",
    "        monthly_money.append(money_list[i+1]-money_list[i])\n",
    "        total_amount = sum(money_list)\n",
    "        avg_change = round(sum(monthly_money)/len(monthly_money), 2)\n",
    "    "
   ]
  },
  {
   "cell_type": "code",
   "execution_count": 48,
   "metadata": {},
   "outputs": [
    {
     "name": "stdout",
     "output_type": "stream",
     "text": [
      "\n",
      "    Financial Analysis\n",
      "    ------------------\n",
      "    Total Months: 86\n",
      "    Total: $38382578\n",
      "    Average Change: -2315.12\n",
      "    Greatest Increase in Profits: Feb-2012 1926159\n",
      "    Greatest Decrease in Profits: Sep-2013 -2196167\n",
      "    \n"
     ]
    }
   ],
   "source": [
    "# calculate max \n",
    "max_value = max(monthly_money)\n",
    "    \n",
    "# calculate min\n",
    "min_value = min(monthly_money)\n",
    "\n",
    "\n",
    "# grab \"matching\" month \n",
    "max_month = monthly_money.index(max(monthly_money)) + 1\n",
    "min_month = monthly_money.index(min(monthly_money)) + 1\n",
    "\n",
    "increase_month = month_counter[max_month]\n",
    "decrease_month = month_counter[min_month] \n",
    "\n",
    "# print output to terminal\n",
    "print(f'''\n",
    "    Financial Analysis\n",
    "    ------------------\n",
    "    Total Months: {total_months}\n",
    "    Total: ${total_amount}\n",
    "    Average Change: {avg_change}\n",
    "    Greatest Increase in Profits: {increase_month} {max_value}\n",
    "    Greatest Decrease in Profits: {decrease_month} {min_value}\n",
    "    ''')\n",
    "\n",
    "# write output to txt file\n",
    "\n",
    "output_path = os.path.join(\"Analysis\", \"financial_analysis.txt\")\n",
    "with open(output_path, 'w') as csvfile:\n",
    "\n",
    "    csvfile.write(f'''\n",
    "        Financial Analysis\n",
    "        ------------------\n",
    "        Total Months: {total_months}\n",
    "        Total: ${total_amount}\n",
    "        Average Change: {avg_change}\n",
    "        Greatest Increase in Profits: {increase_month} {max_value}\n",
    "        Greatest Decrease in Profits: {decrease_month} {min_value}\n",
    "        ''')\n",
    "    "
   ]
  },
  {
   "cell_type": "code",
   "execution_count": null,
   "metadata": {},
   "outputs": [],
   "source": []
  }
 ],
 "metadata": {
  "kernelspec": {
   "display_name": "Python 3",
   "language": "python",
   "name": "python3"
  },
  "language_info": {
   "codemirror_mode": {
    "name": "ipython",
    "version": 3
   },
   "file_extension": ".py",
   "mimetype": "text/x-python",
   "name": "python",
   "nbconvert_exporter": "python",
   "pygments_lexer": "ipython3",
   "version": "3.8.5"
  }
 },
 "nbformat": 4,
 "nbformat_minor": 4
}
